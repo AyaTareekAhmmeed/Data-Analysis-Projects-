{
 "cells": [
  {
   "cell_type": "code",
   "execution_count": 1,
   "id": "bebee062-33ef-4026-b810-483be8ecd715",
   "metadata": {},
   "outputs": [],
   "source": [
    "import pyodbc\n",
    "import pandas as pd\n",
    "from geopy.distance import geodesic\n",
    "import folium\n",
    "import warnings\n",
    "\n",
    "# Suppress all warnings\n",
    "warnings.filterwarnings('ignore')\n",
    "# Database Connection\n",
    "server = 'EFGSVR050\\\\NOVY'\n",
    "database = 'Olist Case Study'\n",
    "conn = pyodbc.connect(f'DRIVER={{SQL Server}};SERVER={server};DATABASE={database}')"
   ]
  },
  {
   "cell_type": "code",
   "execution_count": 2,
   "id": "eefe73c8-fd37-49f0-a5ed-3a522402703c",
   "metadata": {},
   "outputs": [],
   "source": [
    "# Query to fetch geolocation data\n",
    "geo_query = \"\"\"\n",
    "-- Fetch customer geolocation data\n",
    "SELECT \n",
    "    c.customer_unique_id AS unique_id,\n",
    "    'customer' AS entity_type,\n",
    "    c.customer_zip_code_prefix,\n",
    "    g1.geolocation_lat AS latitude,\n",
    "    g1.geolocation_lng AS longitude\n",
    "FROM \n",
    "    olist_customers_dataset c\n",
    "JOIN \n",
    "    olist_geolocation_dataset g1 ON c.customer_zip_code_prefix = g1.geolocation_zip_code_prefix\n",
    "\n",
    "UNION\n",
    "\n",
    "-- Fetch seller geolocation data\n",
    "SELECT \n",
    "    s.seller_id AS unique_id,\n",
    "    'seller' AS entity_type,\n",
    "    s.seller_zip_code_prefix,\n",
    "    g2.geolocation_lat AS latitude,\n",
    "    g2.geolocation_lng AS longitude\n",
    "FROM \n",
    "    olist_sellers_dataset s\n",
    "JOIN \n",
    "    olist_geolocation_dataset g2 ON s.seller_zip_code_prefix = g2.geolocation_zip_code_prefix\n",
    "\n",
    "\"\"\"\n",
    "\n",
    "# Fetching geolocation data into DataFrame\n",
    "geo_data = pd.read_sql(geo_query, conn)\n",
    "conn.close()"
   ]
  },
  {
   "cell_type": "code",
   "execution_count": 3,
   "id": "95c52980-82fc-44af-9904-95bd7bb361e2",
   "metadata": {},
   "outputs": [],
   "source": [
    "# Separate customer and seller data from geo_data\n",
    "customer_data = geo_data[geo_data['entity_type'] == 'customer']\n",
    "seller_data = geo_data[geo_data['entity_type'] == 'seller']"
   ]
  },
  {
   "cell_type": "code",
   "execution_count": 4,
   "id": "813315fb-8eb4-4c04-8a29-327e27ba0b16",
   "metadata": {},
   "outputs": [],
   "source": [
    "# Ensure no duplicate records\n",
    "customers = customer_data.drop_duplicates(subset=['unique_id'])\n",
    "sellers = seller_data.drop_duplicates(subset=['unique_id'])"
   ]
  },
  {
   "cell_type": "code",
   "execution_count": 5,
   "id": "02cc083c-7d34-4f19-b43b-fba29e91efd5",
   "metadata": {},
   "outputs": [
    {
     "name": "stdout",
     "output_type": "stream",
     "text": [
      "                           customer_id                         seller_id  \\\n",
      "2304  0000366f3b9a7992bf8c76cfdf3221e2  c003204e1ab016dfa150abc119207b24   \n",
      "2258  0000366f3b9a7992bf8c76cfdf3221e2  bc39d8938f90a3a2b98193723ed59774   \n",
      "126   0000366f3b9a7992bf8c76cfdf3221e2  0a85ebe4e328db81ac9109781205e2f7   \n",
      "169   0000366f3b9a7992bf8c76cfdf3221e2  0e44d110fa6a54e121cb2c095a77762f   \n",
      "1906  0000366f3b9a7992bf8c76cfdf3221e2  999f6d9a1c7c81f43be44c6b7d076210   \n",
      "\n",
      "      distance_km  \n",
      "2304     8.049073  \n",
      "2258     9.245595  \n",
      "126     10.021591  \n",
      "169     10.684016  \n",
      "1906    11.458320  \n"
     ]
    }
   ],
   "source": [
    "import pandas as pd\n",
    "import numpy as np\n",
    "from scipy.spatial.distance import cdist\n",
    "\n",
    "# Example DataFrames for customers and sellers\n",
    "# Ensure your DataFrames have columns: 'unique_id', 'latitude', 'longitude'\n",
    "# customers = pd.DataFrame(...)\n",
    "# sellers = pd.DataFrame(...)\n",
    "\n",
    "# Extract coordinates\n",
    "customer_coords = customers[['latitude', 'longitude']].to_numpy()\n",
    "seller_coords = sellers[['latitude', 'longitude']].to_numpy()\n",
    "\n",
    "# Calculate pairwise distances (Euclidean, not geodesic)\n",
    "distance_matrix = cdist(customer_coords, seller_coords, metric='euclidean')\n",
    "\n",
    "# Convert distances to geodesic (approximation for short distances)\n",
    "# Use a scaling factor to adjust if coordinates are degrees\n",
    "earth_radius_km = 6371  # Approximate radius of Earth\n",
    "distance_matrix *= (np.pi / 180) * earth_radius_km  # Convert degrees to radians, then to km\n",
    "\n",
    "# Flatten distance matrix and prepare DataFrame\n",
    "customer_ids = np.repeat(customers['unique_id'].values, len(sellers))\n",
    "seller_ids = np.tile(sellers['unique_id'].values, len(customers))\n",
    "\n",
    "distances_df = pd.DataFrame({\n",
    "    'customer_id': customer_ids,\n",
    "    'seller_id': seller_ids,\n",
    "    'distance_km': distance_matrix.flatten()\n",
    "})\n",
    "\n",
    "# Optional: Sort by distance for easy lookup\n",
    "distances_df.sort_values(by=['customer_id', 'distance_km'], inplace=True)\n",
    "\n",
    "# Display or save the output\n",
    "print(distances_df.head())"
   ]
  },
  {
   "cell_type": "code",
   "execution_count": 7,
   "id": "86970f47-355d-47bb-bda4-fe3520ed6219",
   "metadata": {},
   "outputs": [
    {
     "name": "stdout",
     "output_type": "stream",
     "text": [
      "                         customer_id                         seller_id  \\\n",
      "0   0000366f3b9a7992bf8c76cfdf3221e2  c003204e1ab016dfa150abc119207b24   \n",
      "6   0000b849f77a49e4a4ce2b2a4ca5be3f  55f7a3319d80f7fdf078b8f03e6725fe   \n",
      "19  0000f46a3911fa3c0805444483337064  aafe36600ce604f205b86b5084d3d767   \n",
      "32  0000f6ccb0745a6a4b88665a16c9f078  06a2c3af7b3aee5d69171b0e14f0ee87   \n",
      "36  0004aac84e0df4da2b147fca70cf8255  3e46a38ee171c503c3b4a3f23fe3bf0c   \n",
      "\n",
      "    distance_km  \n",
      "0      0.072387  \n",
      "6      0.002488  \n",
      "19     0.014139  \n",
      "32     4.404898  \n",
      "36     0.002029  \n"
     ]
    }
   ],
   "source": [
    "from sklearn.neighbors import NearestNeighbors\n",
    "import pandas as pd\n",
    "\n",
    "# Prepare customer and seller coordinates\n",
    "customer_coords = customers[['latitude', 'longitude']].to_numpy()\n",
    "seller_coords = sellers[['latitude', 'longitude']].to_numpy()\n",
    "\n",
    "# Fit Nearest Neighbors model\n",
    "nbrs = NearestNeighbors(n_neighbors=1, algorithm='ball_tree').fit(seller_coords)\n",
    "\n",
    "# Find the nearest seller for each customer\n",
    "distances, indices = nbrs.kneighbors(customer_coords)\n",
    "\n",
    "# Create output DataFrame\n",
    "distances_df2 = pd.DataFrame({\n",
    "    'customer_id': customers['unique_id'],\n",
    "    'seller_id': sellers.iloc[indices.flatten()]['unique_id'].values,\n",
    "    'distance_km': distances.flatten()\n",
    "})\n",
    "\n",
    "# Display or save results\n",
    "print(distances_df2.head())"
   ]
  },
  {
   "cell_type": "code",
   "execution_count": 8,
   "id": "0a1d93dd-59df-4139-9030-0c5ce3e0cb4b",
   "metadata": {},
   "outputs": [
    {
     "name": "stdout",
     "output_type": "stream",
     "text": [
      "Data saved to 'nearest_seller_distances.xlsx'\n"
     ]
    }
   ],
   "source": [
    "# Save the DataFrame to an Excel file\n",
    "distances_df2.to_excel('nearest_seller_distances.xlsx', index=False)\n",
    "\n",
    "print(\"Data saved to 'nearest_seller_distances.xlsx'\")"
   ]
  },
  {
   "cell_type": "code",
   "execution_count": 10,
   "id": "43297d9b-7321-495e-8062-13c1af6f73cd",
   "metadata": {},
   "outputs": [
    {
     "name": "stdout",
     "output_type": "stream",
     "text": [
      "Map saved as 'customer_seller_map.html'\n"
     ]
    }
   ],
   "source": [
    "from folium.plugins import MarkerCluster\n",
    "# Initialize a folium map centered at an approximate midpoint\n",
    "map_center = [(customers['latitude'].mean() + sellers['latitude'].mean()) / 2,\n",
    "              (customers['longitude'].mean() + sellers['longitude'].mean()) / 2]\n",
    "map_plot = folium.Map(location=map_center, zoom_start=6)\n",
    "\n",
    "# Add sellers to the map\n",
    "seller_cluster = MarkerCluster(name=\"Sellers\").add_to(map_plot)\n",
    "for _, row in sellers.iterrows():\n",
    "    folium.Marker(\n",
    "        location=(row['latitude'], row['longitude']),\n",
    "        popup=f\"Seller: {row['unique_id']}\",\n",
    "        icon=folium.Icon(color='blue', icon='store')\n",
    "    ).add_to(seller_cluster)\n",
    "\n",
    "# Add customers to the map\n",
    "customer_cluster = MarkerCluster(name=\"Customers\").add_to(map_plot)\n",
    "for _, row in customers.iterrows():\n",
    "    folium.Marker(\n",
    "        location=(row['latitude'], row['longitude']),\n",
    "        popup=f\"Customer: {row['unique_id']}\",\n",
    "        icon=folium.Icon(color='green', icon='user')\n",
    "    ).add_to(customer_cluster)\n",
    "\n",
    "# Add lines connecting customers to their nearest sellers\n",
    "for _, row in distances_df2.iterrows():\n",
    "    customer_row = customers[customers['unique_id'] == row['customer_id']].iloc[0]\n",
    "    seller_row = sellers[sellers['unique_id'] == row['seller_id']].iloc[0]\n",
    "    folium.PolyLine(\n",
    "        locations=[(customer_row['latitude'], customer_row['longitude']),\n",
    "                   (seller_row['latitude'], seller_row['longitude'])],\n",
    "        color='red',\n",
    "        weight=2\n",
    "    ).add_to(map_plot)\n",
    "\n",
    "# Add layer control\n",
    "folium.LayerControl().add_to(map_plot)\n",
    "\n",
    "# Save map to an HTML file\n",
    "map_plot.save('customer_seller_map.html')\n",
    "\n",
    "print(\"Map saved as 'customer_seller_map.html'\")"
   ]
  }
 ],
 "metadata": {
  "kernelspec": {
   "display_name": "Python 3 (ipykernel)",
   "language": "python",
   "name": "python3"
  },
  "language_info": {
   "codemirror_mode": {
    "name": "ipython",
    "version": 3
   },
   "file_extension": ".py",
   "mimetype": "text/x-python",
   "name": "python",
   "nbconvert_exporter": "python",
   "pygments_lexer": "ipython3",
   "version": "3.11.7"
  }
 },
 "nbformat": 4,
 "nbformat_minor": 5
}
